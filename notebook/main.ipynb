{
 "cells": [
  {
   "cell_type": "code",
   "execution_count": 1,
   "metadata": {},
   "outputs": [],
   "source": [
    "%load_ext autoreload\n",
    "%autoreload 2\n",
    "\n",
    "import os\n",
    "import sys\n",
    "module_path = os.path.abspath(os.path.join('..', 'code'))\n",
    "if module_path not in sys.path:\n",
    "    sys.path.append(module_path)"
   ]
  },
  {
   "cell_type": "code",
   "execution_count": 2,
   "metadata": {},
   "outputs": [
    {
     "name": "stderr",
     "output_type": "stream",
     "text": [
      "/media/mrj/documents/AI/FaceRecognition/.venv/lib/python3.10/site-packages/tqdm/auto.py:21: TqdmWarning: IProgress not found. Please update jupyter and ipywidgets. See https://ipywidgets.readthedocs.io/en/stable/user_install.html\n",
      "  from .autonotebook import tqdm as notebook_tqdm\n"
     ]
    }
   ],
   "source": [
    "import os\n",
    "from FaceRecognition import FaceRecognition\n",
    "import cv2 as cv\n",
    "from facenet_pytorch import InceptionResnetV1\n",
    "import torch\n",
    "from PIL import Image\n",
    "from torchvision import transforms\n",
    "import numpy as np\n",
    "from sklearn.svm import SVC\n",
    "from sklearn.ensemble import RandomForestClassifier\n",
    "from sklearn.metrics import accuracy_score\n",
    "import time\n",
    "from modAL.models import ActiveLearner\n",
    "import matplotlib.pyplot as plt\n",
    "import pickle"
   ]
  },
  {
   "cell_type": "code",
   "execution_count": 3,
   "metadata": {},
   "outputs": [],
   "source": [
    "ALIGNED_LABLED_DATA = '/media/mrj/documents/AI/FaceRecognition/data/labaled_data/aligned'\n",
    "EMBEDD_LABLED_DATA = '/media/mrj/documents/AI/FaceRecognition/data/labaled_data/embedding'\n",
    "IMAGES_LABLED_DATA  = '/media/mrj/documents/AI/FaceRecognition/data/labaled_data/images'\n",
    "\n",
    "ALIGNED_UNLABLED_DATA = '/media/mrj/documents/AI/FaceRecognition/data/unlabled_data/aligned'\n",
    "EMEBDD_UNLABLED_DATA = '/media/mrj/documents/AI/FaceRecognition/data/unlabled_data/embedding'\n",
    "IMAGES_UNLABLED_DATA  = '/media/mrj/documents/AI/FaceRecognition/data/unlabled_data/images'"
   ]
  },
  {
   "cell_type": "code",
   "execution_count": 4,
   "metadata": {},
   "outputs": [],
   "source": [
    "Face = FaceRecognition()"
   ]
  },
  {
   "cell_type": "code",
   "execution_count": 5,
   "metadata": {},
   "outputs": [],
   "source": [
    "LABLES = os.listdir(IMAGES_LABLED_DATA)\n",
    "\n",
    "\n",
    "\n",
    "for i, lable in enumerate(LABLES):\n",
    "    images_lable_path = os.path.join(IMAGES_LABLED_DATA, lable)\n",
    "    aligned_lable_path = os.path.join(ALIGNED_LABLED_DATA, lable)\n",
    "    if not os.path.exists(aligned_lable_path):\n",
    "        os.mkdir(aligned_lable_path)\n",
    "\n",
    "    for image_name in os.listdir(images_lable_path):\n",
    "        image_path = os.path.join(images_lable_path, image_name)\n",
    "\n",
    "        image = cv.imread(image_path)\n",
    "        image = cv.cvtColor(image, cv.COLOR_BGR2GRAY)\n",
    "\n",
    "        faces, boxes = Face.detect_haar(image, None)\n",
    "        poses, aligned_faces = Face.pose_and_align(image, boxes)\n",
    "        if aligned_faces is not None:\n",
    "            for aligned_face in aligned_faces:\n",
    "                cv.imwrite(os.path.join(aligned_lable_path, image_name), aligned_face)\n",
    "    if i == 100:\n",
    "        break"
   ]
  },
  {
   "cell_type": "code",
   "execution_count": 6,
   "metadata": {},
   "outputs": [],
   "source": [
    "# FACE EMBEDDING EXTRACTION\n",
    "model = InceptionResnetV1(pretrained='vggface2').eval()\n",
    "transform = transforms.Compose([\n",
    "    transforms.Resize((160, 160)),\n",
    "    transforms.ToTensor(),\n",
    "    transforms.Normalize([0.5, 0.5, 0.5], [0.5, 0.5, 0.5])\n",
    "])\n",
    "\n",
    "\n",
    "LABLES = os.listdir(ALIGNED_LABLED_DATA)\n",
    "\n",
    "for i, lable in enumerate(LABLES):\n",
    "    aligned_lable_path = os.path.join(ALIGNED_LABLED_DATA, lable)\n",
    "    embedd_lable_path = os.path.join(EMBEDD_LABLED_DATA, lable)\n",
    "    if not os.path.exists(embedd_lable_path):\n",
    "        os.mkdir(embedd_lable_path)\n",
    "\n",
    "    for image_name in os.listdir(aligned_lable_path):\n",
    "        image_path = os.path.join(aligned_lable_path, image_name)\n",
    "\n",
    "        image = cv.imread(image_path)\n",
    "        image_rgb = cv.cvtColor(image, cv.COLOR_BGR2RGB)\n",
    "\n",
    "        image_pil = Image.fromarray(image_rgb)\n",
    "        image_tensor = transform(image_pil).unsqueeze(0)\n",
    "\n",
    "        with torch.no_grad():\n",
    "            embdeding = model(image_tensor).squeeze().numpy()\n",
    "        \n",
    "        np.save(os.path.join(embedd_lable_path, image_name),embdeding)"
   ]
  },
  {
   "cell_type": "code",
   "execution_count": 7,
   "metadata": {},
   "outputs": [
    {
     "name": "stdout",
     "output_type": "stream",
     "text": [
      "1.0\n"
     ]
    }
   ],
   "source": [
    "# CLASSIFICATION MODEL\n",
    "LABLES = os.listdir(EMBEDD_LABLED_DATA)\n",
    "X, Y = [], []\n",
    "for i, lable in enumerate(LABLES):\n",
    "    embedd_lable_path = os.path.join(EMBEDD_LABLED_DATA, lable)\n",
    "    for embedd in os.listdir(embedd_lable_path):\n",
    "        Y.append(i)\n",
    "        X.append(np.load(os.path.join(embedd_lable_path, embedd)))\n",
    "        \n",
    "X = np.asarray(X)\n",
    "Y = np.asarray(Y)\n",
    "# classifier = SVC(probability=True, kernel='rbf')\n",
    "classifier = RandomForestClassifier()\n",
    "learner = ActiveLearner(classifier, X_training=X, y_training=Y)\n",
    "\n",
    "print(accuracy_score(Y, learner.predict(X)))"
   ]
  },
  {
   "cell_type": "code",
   "execution_count": 8,
   "metadata": {},
   "outputs": [
    {
     "name": "stdout",
     "output_type": "stream",
     "text": [
      "[0.68 0.   0.   0.   0.   0.02 0.   0.01 0.   0.04 0.   0.   0.01 0.\n",
      " 0.   0.01 0.   0.   0.   0.   0.   0.   0.   0.   0.02 0.03 0.   0.\n",
      " 0.   0.   0.01 0.   0.   0.   0.   0.   0.   0.03 0.   0.   0.   0.\n",
      " 0.   0.   0.   0.   0.01 0.   0.   0.   0.   0.   0.   0.   0.   0.\n",
      " 0.01 0.01 0.   0.   0.   0.   0.   0.   0.01 0.   0.   0.   0.   0.\n",
      " 0.   0.   0.   0.   0.   0.   0.02 0.   0.01 0.   0.   0.   0.01 0.01\n",
      " 0.   0.   0.   0.   0.   0.   0.   0.   0.   0.02 0.   0.   0.01 0.\n",
      " 0.01 0.   0.01]\n"
     ]
    }
   ],
   "source": [
    "print(learner.predict_proba(X[0].reshape(1, -1))[0])"
   ]
  },
  {
   "cell_type": "code",
   "execution_count": 11,
   "metadata": {},
   "outputs": [],
   "source": [
    "pickle.dump(learner, open('../models/learner.pkl', 'wb'))"
   ]
  },
  {
   "cell_type": "code",
   "execution_count": 17,
   "metadata": {},
   "outputs": [
    {
     "name": "stdout",
     "output_type": "stream",
     "text": [
      "[0.63]\n"
     ]
    },
    {
     "name": "stderr",
     "output_type": "stream",
     "text": [
      "/media/mrj/documents/AI/FaceRecognition/.venv/lib/python3.10/site-packages/sklearn/utils/deprecation.py:151: FutureWarning: 'force_all_finite' was renamed to 'ensure_all_finite' in 1.6 and will be removed in 1.8.\n",
      "  warnings.warn(\n"
     ]
    },
    {
     "name": "stdout",
     "output_type": "stream",
     "text": [
      "[0.31]\n"
     ]
    }
   ],
   "source": [
    "import numpy as np\n",
    "frame = cv.imread('../test/202501090250.jpg')\n",
    "gray_img = cv.cvtColor(frame, cv.COLOR_BGR2GRAY) \n",
    "faces, boxes = Face.detect_haar(gray_img, None)\n",
    "if len(faces) == 0:\n",
    "    print(\"\\rNo Faces\", end='')\n",
    "    assert False\n",
    "poses, aligned_faces = Face.pose_and_align(gray_img, boxes)\n",
    "embeddings = Face.extract_embeddings(aligned_faces)\n",
    "confidences = []\n",
    "for x in embeddings:\n",
    "    x = x.reshape(1, -1)\n",
    "    probas = learner.predict_proba(x)\n",
    "    confidence = max(probas[0])\n",
    "    confidences.append(confidence)\n",
    "print(np.array(confidences))\n",
    "\n",
    "for index, x in enumerate(embeddings):\n",
    "    x = x.reshape(1, -1)\n",
    "    learner.teach(x, np.array([102+index]))\n",
    "\n",
    "\n",
    "frame = cv.imread('../test/2025-01-09-030614.jpg')\n",
    "gray_img = cv.cvtColor(frame, cv.COLOR_BGR2GRAY) \n",
    "faces, boxes = Face.detect_haar(gray_img, None)\n",
    "if len(faces) == 0:\n",
    "    print(\"\\rNo Faces\", end='')\n",
    "    assert False\n",
    "poses, aligned_faces = Face.pose_and_align(gray_img, boxes)\n",
    "embeddings = Face.extract_embeddings(aligned_faces)\n",
    "confidences = []\n",
    "for x in embeddings:\n",
    "    x = x.reshape(1, -1)\n",
    "    probas = learner.predict_proba(x)\n",
    "    confidence = max(probas[0])\n",
    "    confidences.append(confidence)\n",
    "print(np.array(confidences))"
   ]
  }
 ],
 "metadata": {
  "kernelspec": {
   "display_name": ".venv",
   "language": "python",
   "name": "python3"
  },
  "language_info": {
   "codemirror_mode": {
    "name": "ipython",
    "version": 3
   },
   "file_extension": ".py",
   "mimetype": "text/x-python",
   "name": "python",
   "nbconvert_exporter": "python",
   "pygments_lexer": "ipython3",
   "version": "3.10.12"
  }
 },
 "nbformat": 4,
 "nbformat_minor": 2
}
