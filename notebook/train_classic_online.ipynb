{
 "cells": [
  {
   "cell_type": "code",
   "execution_count": 2,
   "metadata": {},
   "outputs": [],
   "source": [
    "%load_ext autoreload\n",
    "%autoreload 2\n",
    "\n",
    "import os\n",
    "import sys\n",
    "module_path = os.path.abspath(os.path.join('..', 'code'))\n",
    "if module_path not in sys.path:\n",
    "    sys.path.append(module_path)"
   ]
  },
  {
   "cell_type": "code",
   "execution_count": 2,
   "metadata": {},
   "outputs": [
    {
     "name": "stderr",
     "output_type": "stream",
     "text": [
      "/media/mrj/documents/AI/FaceRecognition/.venv/lib/python3.10/site-packages/tqdm/auto.py:21: TqdmWarning: IProgress not found. Please update jupyter and ipywidgets. See https://ipywidgets.readthedocs.io/en/stable/user_install.html\n",
      "  from .autonotebook import tqdm as notebook_tqdm\n"
     ]
    }
   ],
   "source": [
    "import os\n",
    "from FaceRecognition import FaceRecognition\n",
    "import cv2 as cv\n",
    "from facenet_pytorch import InceptionResnetV1, MTCNN\n",
    "import torch\n",
    "from PIL import Image\n",
    "from torchvision import transforms\n",
    "import numpy as np\n",
    "from sklearn.svm import SVC\n",
    "from sklearn.ensemble import RandomForestClassifier\n",
    "from sklearn.metrics import accuracy_score\n",
    "import time\n",
    "from modAL.models import ActiveLearner\n",
    "import matplotlib.pyplot as plt\n",
    "import pickle"
   ]
  },
  {
   "cell_type": "code",
   "execution_count": 3,
   "metadata": {},
   "outputs": [],
   "source": [
    "ALIGNED_LABLED_DATA = '/media/mrj/documents/AI/FaceRecognition/data/labaled_data/aligned'\n",
    "EMBEDD_LABLED_DATA = '/media/mrj/documents/AI/FaceRecognition/data/labaled_data/embedding'\n",
    "IMAGES_LABLED_DATA  = '/media/mrj/documents/AI/FaceRecognition/data/labaled_data/images'\n",
    "\n",
    "ALIGNED_UNLABLED_DATA = '/media/mrj/documents/AI/FaceRecognition/data/unlabled_data/aligned'\n",
    "EMEBDD_UNLABLED_DATA = '/media/mrj/documents/AI/FaceRecognition/data/unlabled_data/embedding'\n",
    "IMAGES_UNLABLED_DATA  = '/media/mrj/documents/AI/FaceRecognition/data/unlabled_data/images'"
   ]
  },
  {
   "cell_type": "code",
   "execution_count": 15,
   "metadata": {},
   "outputs": [
    {
     "name": "stdout",
     "output_type": "stream",
     "text": [
      "20\n"
     ]
    }
   ],
   "source": [
    "LABLES = os.listdir(IMAGES_LABLED_DATA)\n",
    "NUM_DATA_EACH_LABEL = {}\n",
    "for index, label in enumerate(LABLES):\n",
    "    NUM_DATA_EACH_LABEL[label] = len(os.listdir(os.path.join(IMAGES_LABLED_DATA, label)))\n",
    "sorted_dict = dict(sorted(NUM_DATA_EACH_LABEL.items(), key=lambda item: item[1], reverse=False))\n",
    "\n",
    "LABLES = []\n",
    "for key, value in sorted_dict.items():\n",
    "    if  30 >value > 10:\n",
    "        LABLES.append(key)\n",
    "    if len(LABLES) == 20:\n",
    "        break\n",
    "print(len(LABLES))"
   ]
  },
  {
   "cell_type": "code",
   "execution_count": 5,
   "metadata": {},
   "outputs": [],
   "source": [
    "Face = FaceRecognition()"
   ]
  },
  {
   "cell_type": "code",
   "execution_count": 16,
   "metadata": {},
   "outputs": [],
   "source": [
    "X = [] \n",
    "Y = []"
   ]
  },
  {
   "cell_type": "code",
   "execution_count": 17,
   "metadata": {},
   "outputs": [
    {
     "name": "stdout",
     "output_type": "stream",
     "text": [
      "20:19\n",
      "1.0\n"
     ]
    }
   ],
   "source": [
    "model = InceptionResnetV1(pretrained='vggface2').eval()\n",
    "transform = transforms.Compose([\n",
    "    transforms.Resize((160, 160)),\n",
    "    transforms.ToTensor(),\n",
    "    transforms.Normalize([0.5, 0.5, 0.5], [0.5, 0.5, 0.5])\n",
    "])\n",
    "\n",
    "for i, lable in enumerate(LABLES):\n",
    "    print(f'\\r{len(LABLES)}:{i}', end='')\n",
    "    images_lable_path = os.path.join(IMAGES_LABLED_DATA, lable)\n",
    "    aligned_lable_path = os.path.join(ALIGNED_LABLED_DATA, lable)\n",
    "    \n",
    "    for image_name in os.listdir(images_lable_path):\n",
    "        image_path = os.path.join(images_lable_path, image_name)\n",
    "\n",
    "        image_rgb = cv.imread(image_path)\n",
    "        image = cv.cvtColor(image_rgb, cv.COLOR_BGR2GRAY)\n",
    "\n",
    "        faces, boxes = Face.detect_haar(image, None)\n",
    "        poses, aligned_faces = Face.pose_and_align(image_rgb, boxes)\n",
    "        if aligned_faces is not None:\n",
    "            for aligned_face in aligned_faces:\n",
    "                \n",
    "                image_rgb = cv.cvtColor(aligned_face, cv.COLOR_BGR2RGB)\n",
    "                image_pil = Image.fromarray(image_rgb)\n",
    "                image_tensor = transform(image_pil).unsqueeze(0)\n",
    "                with torch.no_grad():\n",
    "                    embdeding = model(image_tensor).squeeze().numpy()\n",
    "                X.append(embdeding)\n",
    "                Y.append(lable)\n",
    "\n",
    "classifier = RandomForestClassifier()\n",
    "learner = ActiveLearner(classifier, X_training=X, y_training=Y)\n",
    "print()\n",
    "print(accuracy_score(Y, learner.predict(X)))"
   ]
  },
  {
   "cell_type": "code",
   "execution_count": 18,
   "metadata": {},
   "outputs": [
    {
     "name": "stdout",
     "output_type": "stream",
     "text": [
      "[0.01 0.89 0.01 0.   0.   0.   0.   0.02 0.   0.   0.   0.   0.03 0.01\n",
      " 0.   0.01 0.01 0.01 0.   0.  ]\n"
     ]
    }
   ],
   "source": [
    "print(learner.predict_proba(X[0].reshape(1, -1))[0])"
   ]
  },
  {
   "cell_type": "code",
   "execution_count": 19,
   "metadata": {},
   "outputs": [],
   "source": [
    "pickle.dump(learner, open('../models/classic_online.pkl', 'wb'))"
   ]
  },
  {
   "cell_type": "code",
   "execution_count": 20,
   "metadata": {},
   "outputs": [],
   "source": [
    "learner = pickle.load(open('../models/classic_online.pkl', 'rb'))"
   ]
  },
  {
   "cell_type": "code",
   "execution_count": null,
   "metadata": {},
   "outputs": [],
   "source": [
    "#USING AUGMENTOR\n"
   ]
  },
  {
   "cell_type": "code",
   "execution_count": 1,
   "metadata": {},
   "outputs": [
    {
     "name": "stdout",
     "output_type": "stream",
     "text": [
      "Initialised with 1 image(s) found.\n",
      "Output directory set to images/output."
     ]
    },
    {
     "name": "stderr",
     "output_type": "stream",
     "text": [
      "Processing <PIL.Image.Image image mode=RGB size=640x480 at 0x7F83888F2F20>: 100%|██████████| 10/10 [00:00<00:00, 77.57 Samples/s]\n"
     ]
    }
   ],
   "source": [
    "import Augmentor\n",
    "\n",
    "p = Augmentor.Pipeline(\"images/\")\n",
    "p.rotate(probability=0.9, max_left_rotation=25, max_right_rotation=25)\n",
    "p.zoom(probability=0.3, min_factor=1.1, max_factor=1.6)\n",
    "p.sample(10)"
   ]
  },
  {
   "cell_type": "code",
   "execution_count": null,
   "metadata": {},
   "outputs": [
    {
     "name": "stdout",
     "output_type": "stream",
     "text": [
      "[0.14]\n",
      "0\n"
     ]
    },
    {
     "name": "stderr",
     "output_type": "stream",
     "text": [
      "/media/mrj/documents/AI/FaceRecognition/.venv/lib/python3.10/site-packages/sklearn/utils/deprecation.py:151: FutureWarning: 'force_all_finite' was renamed to 'ensure_all_finite' in 1.6 and will be removed in 1.8.\n",
      "  warnings.warn(\n"
     ]
    },
    {
     "name": "stdout",
     "output_type": "stream",
     "text": [
      "[0.66]\n",
      "[0.14]\n"
     ]
    }
   ],
   "source": [
    "import numpy as np\n",
    "learner = pickle.load(open('../models/classic_online.pkl', 'rb'))\n",
    "frame = cv.imread('../test/20250114011243321277.jpg')\n",
    "gray_img = cv.cvtColor(frame, cv.COLOR_BGR2GRAY) \n",
    "faces, boxes = Face.detect_haar(gray_img, None)\n",
    "if len(faces) == 0:\n",
    "    print(\"\\rNo Faces\", end='')\n",
    "    assert False\n",
    "poses, aligned_faces = Face.pose_and_align(frame, boxes)\n",
    "\n",
    "embeddings = Face.extract_embeddings(aligned_faces)\n",
    "confidences = []\n",
    "for x in embeddings:\n",
    "    x = x.reshape(1, -1)\n",
    "    probas = learner.predict_proba(x)\n",
    "    confidence = max(probas[0])\n",
    "    confidences.append(confidence)\n",
    "print(np.array(confidences))\n",
    "for index, x in enumerate(embeddings):\n",
    "    print(index)\n",
    "    x = x.reshape(1, -1)\n",
    "    learner.teach(x, np.array([102+index]))\n",
    "\n",
    "confidences = []\n",
    "for x in embeddings:\n",
    "    x = x.reshape(1, -1)\n",
    "    probas = learner.predict_proba(x)\n",
    "    confidence = max(probas[0])\n",
    "    confidences.append(confidence)\n",
    "print(np.array(confidences))\n",
    "\n",
    "\n",
    "frame = cv.imread('../test/20250114011326397435.jpg')\n",
    "gray_img = cv.cvtColor(frame, cv.COLOR_BGR2GRAY) \n",
    "faces, boxes = Face.detect_haar(frame, None)\n",
    "if len(faces) == 0:\n",
    "    print(\"\\rNo Faces\", end='')\n",
    "    assert False\n",
    "poses, aligned_faces = Face.pose_and_align(gray_img, boxes)\n",
    "embeddings = Face.extract_embeddings(aligned_faces)\n",
    "confidences = []\n",
    "for x in embeddings:\n",
    "    x = x.reshape(1, -1)\n",
    "    probas = learner.predict_proba(x)\n",
    "    confidence = max(probas[0])\n",
    "    confidences.append(confidence)\n",
    "print(np.array(confidences))"
   ]
  },
  {
   "cell_type": "code",
   "execution_count": 59,
   "metadata": {},
   "outputs": [],
   "source": [
    "from Model import Model\n",
    "import cv2 as cv\n",
    "model = Model()\n",
    "\n"
   ]
  },
  {
   "cell_type": "code",
   "execution_count": 67,
   "metadata": {},
   "outputs": [],
   "source": [
    "model.load_model()"
   ]
  },
  {
   "cell_type": "code",
   "execution_count": 71,
   "metadata": {},
   "outputs": [
    {
     "name": "stdout",
     "output_type": "stream",
     "text": [
      "([0.65], [array(['1'], dtype='<U25')])\n"
     ]
    }
   ],
   "source": [
    "print(model.evaluation(image=cv.imread('../api/static/images/8/20250114013247400888.jpg')))"
   ]
  },
  {
   "cell_type": "code",
   "execution_count": 68,
   "metadata": {},
   "outputs": [
    {
     "name": "stdout",
     "output_type": "stream",
     "text": [
      "([0.12], [array(['Anna_Kournikova'], dtype='<U25')])\n",
      "([0.14], [array(['Mike_Weir'], dtype='<U25')])\n",
      "Initialised with 1 image(s) found.\n",
      "Output directory set to /media/mrj/documents/AI/FaceRecognition/data/unlabled_data/images/1/output."
     ]
    },
    {
     "name": "stderr",
     "output_type": "stream",
     "text": [
      "Processing <PIL.Image.Image image mode=RGB size=640x480 at 0x7F82300CD900>: 100%|██████████| 100/100 [00:07<00:00, 12.60 Samples/s]\n",
      "/media/mrj/documents/AI/FaceRecognition/.venv/lib/python3.10/site-packages/sklearn/utils/deprecation.py:151: FutureWarning: 'force_all_finite' was renamed to 'ensure_all_finite' in 1.6 and will be removed in 1.8.\n",
      "  warnings.warn(\n"
     ]
    },
    {
     "name": "stdout",
     "output_type": "stream",
     "text": [
      "([0.93], [array(['1'], dtype='<U25')])\n",
      "([0.45], [array(['1'], dtype='<U25')])\n"
     ]
    }
   ],
   "source": [
    "print(model.evaluation(image=cv.imread('../test/20250114011243321277.jpg')))\n",
    "print(model.evaluation(image=cv.imread('../test/20250114011326397435.jpg')))\n",
    "model.ActiveLearning(image=cv.imread('../test/20250114011243321277.jpg'))\n",
    "print(model.evaluation(image=cv.imread('../test/20250114011243321277.jpg')))\n",
    "print(model.evaluation(image=cv.imread('../test/20250114011326397435.jpg')))\n"
   ]
  }
 ],
 "metadata": {
  "kernelspec": {
   "display_name": ".venv",
   "language": "python",
   "name": "python3"
  },
  "language_info": {
   "codemirror_mode": {
    "name": "ipython",
    "version": 3
   },
   "file_extension": ".py",
   "mimetype": "text/x-python",
   "name": "python",
   "nbconvert_exporter": "python",
   "pygments_lexer": "ipython3",
   "version": "3.10.12"
  }
 },
 "nbformat": 4,
 "nbformat_minor": 2
}
